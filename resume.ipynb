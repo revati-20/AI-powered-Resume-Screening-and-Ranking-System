{
 "cells": [
  {
   "cell_type": "code",
   "execution_count": 1,
   "id": "a611675d-83d7-4598-86a0-ac734ed7a0e4",
   "metadata": {},
   "outputs": [],
   "source": [
    "import streamlit as st\n",
    "from PyPDF2 import PdfReader\n",
    "import pandas as pd\n",
    "from sklearn.feature_extraction.text import TfidfVectorizer\n",
    "from sklearn.metrics.pairwise import cosine_similarity"
   ]
  },
  {
   "cell_type": "code",
   "execution_count": 2,
   "id": "c418720d-ec72-46ef-8420-89e823a13f96",
   "metadata": {},
   "outputs": [],
   "source": [
    "## Function to extract text from PDF\n",
    "def extract_text_from_pdf(file):\n",
    "    pdf = PdfReader(file)\n",
    "    text =\"\"\n",
    "    for page in pdf.pages:\n",
    "        text += page.extract_text()\n",
    "    return text"
   ]
  },
  {
   "cell_type": "code",
   "execution_count": 3,
   "id": "88b6d5bf-3e61-42cf-be72-fc876f451bc5",
   "metadata": {},
   "outputs": [],
   "source": [
    "def rank_resumes(job_description, resumes):\n",
    "    #Combining job description with resumes\n",
    "    documents = [job_description]+resumes\n",
    "    vectorizer = TfidfVectorizer().fit_transform(documents)\n",
    "    vectors = vectorizer.toarray()\n",
    "\n",
    "     ##Calculate cosine similarity\n",
    "    job_description_vector = vectors[0]\n",
    "    resume_vectors = vectors[1:]\n",
    "    cosine_similarities = cosine_similarity([job_dscription_vector], resume_vectors).flatten()\n",
    "    \n",
    "    return cosine_similarities\n"
   ]
  },
  {
   "cell_type": "code",
   "execution_count": 4,
   "id": "91ca1a63-f51e-46e7-901a-daadb17cfcdb",
   "metadata": {},
   "outputs": [
    {
     "name": "stderr",
     "output_type": "stream",
     "text": [
      "2025-03-15 23:48:43.111 WARNING streamlit.runtime.scriptrunner_utils.script_run_context: Thread 'MainThread': missing ScriptRunContext! This warning can be ignored when running in bare mode.\n",
      "2025-03-15 23:48:44.400 \n",
      "  \u001b[33m\u001b[1mWarning:\u001b[0m to view this Streamlit app on a browser, run it with the following\n",
      "  command:\n",
      "\n",
      "    streamlit run C:\\Users\\Revati Nimbalkar\\OneDrive\\Desktop\\AICET Internship\\EnvP1\\Lib\\site-packages\\ipykernel_launcher.py [ARGUMENTS]\n",
      "2025-03-15 23:48:44.402 Thread 'MainThread': missing ScriptRunContext! This warning can be ignored when running in bare mode.\n",
      "2025-03-15 23:48:44.405 Thread 'MainThread': missing ScriptRunContext! This warning can be ignored when running in bare mode.\n",
      "2025-03-15 23:48:44.407 Thread 'MainThread': missing ScriptRunContext! This warning can be ignored when running in bare mode.\n",
      "2025-03-15 23:48:44.409 Thread 'MainThread': missing ScriptRunContext! This warning can be ignored when running in bare mode.\n",
      "2025-03-15 23:48:44.410 Thread 'MainThread': missing ScriptRunContext! This warning can be ignored when running in bare mode.\n",
      "2025-03-15 23:48:44.411 Thread 'MainThread': missing ScriptRunContext! This warning can be ignored when running in bare mode.\n",
      "2025-03-15 23:48:44.414 Thread 'MainThread': missing ScriptRunContext! This warning can be ignored when running in bare mode.\n",
      "2025-03-15 23:48:44.416 Session state does not function when running a script without `streamlit run`\n",
      "2025-03-15 23:48:44.417 Thread 'MainThread': missing ScriptRunContext! This warning can be ignored when running in bare mode.\n",
      "2025-03-15 23:48:44.419 Thread 'MainThread': missing ScriptRunContext! This warning can be ignored when running in bare mode.\n"
     ]
    }
   ],
   "source": [
    "## Streamlit app\n",
    "st.title(\"AI Resume Screening & Candidate Ranking System\")\n",
    "##Job Description input\n",
    "st.header(\"Job Description\")\n",
    "job_description = st.text_area(\"Enter the job description\")\n"
   ]
  },
  {
   "cell_type": "code",
   "execution_count": 5,
   "id": "361ed5ac-b02e-4b35-9550-6a36daa2bdcc",
   "metadata": {},
   "outputs": [
    {
     "name": "stderr",
     "output_type": "stream",
     "text": [
      "2025-03-15 23:48:44.436 Thread 'MainThread': missing ScriptRunContext! This warning can be ignored when running in bare mode.\n",
      "2025-03-15 23:48:44.438 Thread 'MainThread': missing ScriptRunContext! This warning can be ignored when running in bare mode.\n",
      "2025-03-15 23:48:44.440 Thread 'MainThread': missing ScriptRunContext! This warning can be ignored when running in bare mode.\n",
      "2025-03-15 23:48:44.442 Thread 'MainThread': missing ScriptRunContext! This warning can be ignored when running in bare mode.\n",
      "2025-03-15 23:48:44.444 Thread 'MainThread': missing ScriptRunContext! This warning can be ignored when running in bare mode.\n",
      "2025-03-15 23:48:44.447 Thread 'MainThread': missing ScriptRunContext! This warning can be ignored when running in bare mode.\n",
      "2025-03-15 23:48:44.449 Thread 'MainThread': missing ScriptRunContext! This warning can be ignored when running in bare mode.\n"
     ]
    }
   ],
   "source": [
    "## File uploader\n",
    "\n",
    "st.header(\"Uploader Resumes\")\n",
    "uploaded_files = st.file_uploader(\"Upload PDF files\", type=[\"pdf\"], accept_multiple_files=True)\n"
   ]
  },
  {
   "cell_type": "code",
   "execution_count": 6,
   "id": "48fb4a40-c30b-4738-a56a-0874d42ba437",
   "metadata": {},
   "outputs": [],
   "source": [
    "if uploaded_files and job_description:\n",
    "    st.header(\"Ranking Resumes\")\n",
    "    resumes = []\n",
    "    for file in uploaded_files:\n",
    "        text = extract_text_from_pdf(file)\n",
    "        resumes.append(text)\n",
    "    \n",
    "    #Ranks resume\n",
    "    scores = rank_resumes(job_description, resumes)\n",
    "    \n",
    "    #Display scores\n",
    "    results = pd.DataFrame({\"Resume\":[file.name for file in uploaded_files], \"Score\" : scores})\n",
    "    results = results.sort_values(by=\"Score\", ascending=False)\n",
    "    \n",
    "    st.write(results)"
   ]
  },
  {
   "cell_type": "code",
   "execution_count": null,
   "id": "94e3da79-df95-4515-b395-9dedfa1e6c1b",
   "metadata": {},
   "outputs": [],
   "source": []
  }
 ],
 "metadata": {
  "kernelspec": {
   "display_name": "Python 3 (ipykernel)",
   "language": "python",
   "name": "python3"
  },
  "language_info": {
   "codemirror_mode": {
    "name": "ipython",
    "version": 3
   },
   "file_extension": ".py",
   "mimetype": "text/x-python",
   "name": "python",
   "nbconvert_exporter": "python",
   "pygments_lexer": "ipython3",
   "version": "3.13.2"
  }
 },
 "nbformat": 4,
 "nbformat_minor": 5
}
